{
  "nbformat": 4,
  "nbformat_minor": 0,
  "metadata": {
    "colab": {
      "provenance": []
    },
    "kernelspec": {
      "name": "python3",
      "display_name": "Python 3"
    },
    "language_info": {
      "name": "python"
    }
  },
  "cells": [
    {
      "cell_type": "markdown",
      "source": [
        "# Data type and structure\n",
        "1. What are data structures, and why are they important?\n",
        "   - Data structures are ways of organizing and storing data efficiently so that it can be accessed, modified, and processed effectively. They are essential tools in computer science and software development, and they provide a systematic way to manage large amounts of data and perform operations on it.\n",
        "2.  Explain the difference between mutable and immutable data types with examples?\n",
        "    -. Mutable Data Types\n",
        "Definition: Mutable data types are those whose values can be changed or modified after they are created. In other words, you can alter the contents of the object without creating a new object.\n",
        "      Immutable Data Types\n",
        "Definition: Immutable data types are those whose values cannot be changed after they are created. Any operation that attempts to modify an immutable object results in the creation of a new object with the new value.\n",
        "3. What are the main differences between lists and tuples in Python?\n",
        "   - Main Differences Between Lists and Tuples in Python:\n",
        "Aspect\tList\tTuple\n",
        "Mutability\tLists are mutable: their elements can be modified, added, or removed after creation.\tTuples are immutable: once created, their elements cannot be changed.\n",
        "Syntax\tLists are created using square brackets [].\tTuples are created using parentheses ().\n",
        "Example\tmy_list = [1, 2, 3]\tmy_tuple = (1, 2, 3).\n",
        "4. Describe how dictionaries store data?\n",
        "   - In Python, dictionaries are a type of collection that stores data as key-value pairs. Each key is associated with a value, and the key serves as a unique identifier for accessing its corresponding value.\n",
        "5. Why might you use a set instead of a list in Python?\n",
        "   -In Python, sets and lists are both used to store collections of items, but they serve different purposes depending on the characteristics of the data and the operations you need to perform.\n",
        "6. What is a string in Python, and how is it different from a list?\n",
        "   - In Python, a string is a sequence of characters enclosed in single quotes (') or double quotes (\"). Strings are used to represent text data and can be composed of letters, numbers, symbols, and even spaces.\n",
        "7. How do tuples ensure data integrity in Python?\n",
        "   - In Python, tuples ensure data integrity primarily through their immutability. Once a tuple is created, its elements cannot be modified, added, or removed.\n",
        "8. What is a hash table, and how does it relate to dictionaries in Python?\n",
        "   - A hash table is a data structure that provides an efficient way to store and retrieve key-value pairs.\n",
        "9. Can lists contain different data types in Python?\n",
        "   - Yes, lists in Python can contain different data types. Unlike some other programming languages that require elements of a list to be of the same type, Python allows lists to hold elements of mixed data types.\n",
        "10. Explain why strings are immutable in Python?\n",
        "    - Strings are immutable in Python, meaning that once a string is created, its content cannot be changed. This immutability is a key characteristic of Python strings and it plays a crucial role in both performance and design.\n",
        "11. What advantages do dictionaries offer over lists for certain tasks?\n",
        "    - Dictionaries in Python offer several advantages over lists, especially for certain tasks that involve efficient data retrieval, management, and organization.\n",
        "12. Describe a scenario where using a tuple would be preferable over a list?\n",
        "    - Using a tuple instead of a list in Python can be preferable in scenarios where immutability and data integrity are important.\n",
        "13. How do sets handle duplicate values in Python?\n",
        "    - In Python, sets automatically handle duplicate values by removing them. A set is an unordered collection of unique elements.\n",
        "14. How does the “in” keyword work differently for lists and dictionaries?\n",
        "    - When used with a list, the in keyword checks if the value you are looking for exists as an element in the list.\n",
        "    - When used with a dictionary, the in keyword checks for keys, not values.\n",
        "15. Can you modify the elements of a tuple? Explain why or why note.\n",
        "    - No, you cannot modify the elements of a tuple after it has been created. This is because tuples are immutable in Python, meaning that once a tuple is created, its contents (the values inside it) cannot be changed, added, or removed.\n",
        "16. What is a nested dictionary, and give an example of its use case?\n",
        "    - A nested dictionary is a dictionary where the values themselves are dictionaries. In other words, it is a dictionary that contains other dictionaries as values.\n",
        "17. Describe the time complexity of accessing elements in a dictionary?\n",
        "    - In Python, dictionaries are implemented using hash tables, which allow for average-case constant time complexity when accessing elements.\n",
        "18. In what situations are lists preferred over dictionaries?\n",
        "    - While both lists and dictionaries are commonly used in Python, they are suited to different types of use cases.\n",
        "19. Why are dictionaries considered unordered, and how does that affect data retrieval?\n",
        "    - Dictionaries in Python were considered unordered prior to version 3.7, meaning that there was no guarantee about the order in which the key-value pairs would be stored or retrieved.\n",
        "20. Explain the difference between a list and a dictionary in terms of data retrieval.\n",
        "   - The main difference between a list and a dictionary in terms of data retrieval lies in the way elements are accessed and stored.\n",
        "   "
      ],
      "metadata": {
        "id": "NeF5xP1d1giz"
      }
    },
    {
      "cell_type": "code",
      "execution_count": null,
      "metadata": {
        "id": "XhYpLbTz1X5i",
        "colab": {
          "base_uri": "https://localhost:8080/"
        },
        "outputId": "55b33c7e-2de9-48a6-fc7a-409a0e587b53"
      },
      "outputs": [
        {
          "output_type": "stream",
          "name": "stdout",
          "text": [
            "Rohit Gupta\n"
          ]
        }
      ],
      "source": [
        "# 1. Write a code to create a string with your name and print it\n",
        "# Creating a string with my name\n",
        "my_name = \"Rohit Gupta\"\n",
        "print(my_name)\n",
        "\n"
      ]
    },
    {
      "cell_type": "code",
      "source": [
        "# 2. Write a code to find the length of the string \"Hello World\"\n",
        "# Defining the string\n",
        "my_string = \"Hello World\"\n",
        "length = len(my_string)\n",
        "print(length)\n"
      ],
      "metadata": {
        "colab": {
          "base_uri": "https://localhost:8080/"
        },
        "id": "C2o_OFevehqF",
        "outputId": "136c318b-9005-4764-f944-46e005ad7b4a"
      },
      "execution_count": null,
      "outputs": [
        {
          "output_type": "stream",
          "name": "stdout",
          "text": [
            "11\n"
          ]
        }
      ]
    },
    {
      "cell_type": "code",
      "source": [
        "# 3. Write a code to slice the first 3 characters from the string \"Python Programming\"\n",
        "# Defining the string\n",
        "my_string = \"Python Programming\"\n",
        "sliced_string = my_string[:3]\n",
        "print(sliced_string)\n"
      ],
      "metadata": {
        "colab": {
          "base_uri": "https://localhost:8080/"
        },
        "id": "pZS0gIqce6nQ",
        "outputId": "c3409d1f-dc38-4f3a-f049-aa4bf1df806f"
      },
      "execution_count": null,
      "outputs": [
        {
          "output_type": "stream",
          "name": "stdout",
          "text": [
            "Pyt\n"
          ]
        }
      ]
    },
    {
      "cell_type": "code",
      "source": [
        "# 4. Write a code to convert the string \"hello\" to uppercase\n",
        "# Defining the string\n",
        "my_string = \"hello\"\n",
        "uppercase_string = my_string.upper()\n",
        "print(uppercase_string)\n"
      ],
      "metadata": {
        "colab": {
          "base_uri": "https://localhost:8080/"
        },
        "id": "B2lKfZ5YfMPn",
        "outputId": "6e2e03d3-adf4-4573-8b91-0c366fb0a48f"
      },
      "execution_count": null,
      "outputs": [
        {
          "output_type": "stream",
          "name": "stdout",
          "text": [
            "HELLO\n"
          ]
        }
      ]
    },
    {
      "cell_type": "code",
      "source": [
        "# 5. Write a code to replace the word \"apple\" with \"orange\" in the string \"I like apple\"\n",
        "# Defining the string\n",
        "my_string = \"I like apple\"\n",
        "my_string.replace(\"apple\", \"orange\")\n"
      ],
      "metadata": {
        "colab": {
          "base_uri": "https://localhost:8080/",
          "height": 35
        },
        "id": "0jgZUXshfmlO",
        "outputId": "7b77f843-9ca1-4152-fff9-1c26756fd81f"
      },
      "execution_count": null,
      "outputs": [
        {
          "output_type": "execute_result",
          "data": {
            "text/plain": [
              "'I like orange'"
            ],
            "application/vnd.google.colaboratory.intrinsic+json": {
              "type": "string"
            }
          },
          "metadata": {},
          "execution_count": 7
        }
      ]
    },
    {
      "cell_type": "code",
      "source": [],
      "metadata": {
        "id": "rVhiG2cNgCL9"
      },
      "execution_count": null,
      "outputs": []
    },
    {
      "cell_type": "code",
      "source": [
        "# 6.Write a code to create a list with numbers 1 to 5 and print it\n",
        "my_list = [1, 2, 3, 4, 5]\n",
        "print(my_list)\n"
      ],
      "metadata": {
        "colab": {
          "base_uri": "https://localhost:8080/"
        },
        "id": "WgiTViY-gp1s",
        "outputId": "5fd0010c-3414-458d-f71c-32f9270a3d10"
      },
      "execution_count": null,
      "outputs": [
        {
          "output_type": "stream",
          "name": "stdout",
          "text": [
            "[1, 2, 3, 4, 5]\n"
          ]
        }
      ]
    },
    {
      "cell_type": "code",
      "source": [
        "# 7. Write a code to append the number 10 to the list [1, 2, 3, 4]\n",
        "# Defining the list\n",
        "my_list = [1, 2, 3, 4]\n",
        "my_list.append(10)\n",
        "print(my_list)\n"
      ],
      "metadata": {
        "colab": {
          "base_uri": "https://localhost:8080/"
        },
        "id": "MumST_cog_Yg",
        "outputId": "c6c4d6ad-4c65-4b01-e804-bab99374224a"
      },
      "execution_count": null,
      "outputs": [
        {
          "output_type": "stream",
          "name": "stdout",
          "text": [
            "[1, 2, 3, 4, 10]\n"
          ]
        }
      ]
    },
    {
      "cell_type": "code",
      "source": [
        "# 8.Write a code to remove the number 3 from the list [1, 2, 3, 4, 5]\n",
        "# Defining the list\n",
        "my_list = [1, 2, 3, 4, 5]\n",
        "my_list.remove(3)\n",
        "print(my_list)\n"
      ],
      "metadata": {
        "colab": {
          "base_uri": "https://localhost:8080/"
        },
        "id": "5cjYPf5fhSXs",
        "outputId": "f8e51c7f-f438-4fa9-cc17-0a3b819d17f0"
      },
      "execution_count": null,
      "outputs": [
        {
          "output_type": "stream",
          "name": "stdout",
          "text": [
            "[1, 2, 4, 5]\n"
          ]
        }
      ]
    },
    {
      "cell_type": "code",
      "source": [
        "# 9. Write a code to access the second element in the list ['a', 'b', 'c', 'd']\n",
        "my_list = ['a', 'b', 'c', 'd']\n",
        "my_list[1]\n",
        "\n"
      ],
      "metadata": {
        "colab": {
          "base_uri": "https://localhost:8080/",
          "height": 35
        },
        "id": "_C8HOQF_hihj",
        "outputId": "001c3269-a412-467c-9251-82632c8eb1f9"
      },
      "execution_count": null,
      "outputs": [
        {
          "output_type": "execute_result",
          "data": {
            "text/plain": [
              "'b'"
            ],
            "application/vnd.google.colaboratory.intrinsic+json": {
              "type": "string"
            }
          },
          "metadata": {},
          "execution_count": 13
        }
      ]
    },
    {
      "cell_type": "code",
      "source": [
        "# 10.Write a code to reverse the list [10, 20, 30, 40, 50]\n",
        "my_list = [10, 20, 30, 40, 50]\n",
        "my_list.reverse()"
      ],
      "metadata": {
        "id": "PKEjsyjNhySM"
      },
      "execution_count": null,
      "outputs": []
    },
    {
      "cell_type": "code",
      "source": [
        "my_list"
      ],
      "metadata": {
        "colab": {
          "base_uri": "https://localhost:8080/"
        },
        "id": "aL05el51iG04",
        "outputId": "05bd536c-8342-4ca2-82aa-3c0bcdf0b67b"
      },
      "execution_count": null,
      "outputs": [
        {
          "output_type": "execute_result",
          "data": {
            "text/plain": [
              "[50, 40, 30, 20, 10]"
            ]
          },
          "metadata": {},
          "execution_count": 15
        }
      ]
    },
    {
      "cell_type": "code",
      "source": [
        "# 11.  Write a code to create a tuple with the elements 10, 20, 30 and print it\n",
        "\n",
        "my_tuple = (10, 20, 30)\n",
        "print(my_tuple)\n"
      ],
      "metadata": {
        "id": "Gkpe6ms7iJqI",
        "colab": {
          "base_uri": "https://localhost:8080/"
        },
        "outputId": "1c6d2ce4-4fca-413a-a9ea-4cbf57a028d6"
      },
      "execution_count": 1,
      "outputs": [
        {
          "output_type": "stream",
          "name": "stdout",
          "text": [
            "(10, 20, 30)\n"
          ]
        }
      ]
    },
    {
      "cell_type": "code",
      "source": [
        "# 12. Write a code to access the first element of the tuple ('apple', 'banana', 'cherry')\n",
        "my_tuple = ('apple', 'banana', 'cherry')\n",
        "my_tuple[0]\n",
        "\n",
        "\n",
        "\n"
      ],
      "metadata": {
        "colab": {
          "base_uri": "https://localhost:8080/",
          "height": 35
        },
        "id": "kQqo9p-kgDR3",
        "outputId": "4847dba4-5edb-4a31-f825-4a5b95dbb46a"
      },
      "execution_count": 2,
      "outputs": [
        {
          "output_type": "execute_result",
          "data": {
            "text/plain": [
              "'apple'"
            ],
            "application/vnd.google.colaboratory.intrinsic+json": {
              "type": "string"
            }
          },
          "metadata": {},
          "execution_count": 2
        }
      ]
    },
    {
      "cell_type": "code",
      "source": [
        "# 13. Write a code to count how many times the number 2 appears in the tuple (1, 2, 3, 2, 4, 2)\n",
        "my_tuple = (1,2,3,4,5)\n",
        "my_tuple.count(2)"
      ],
      "metadata": {
        "colab": {
          "base_uri": "https://localhost:8080/"
        },
        "id": "akftgFWKgasC",
        "outputId": "8c56a363-4d7a-49b6-c75b-962654852251"
      },
      "execution_count": 3,
      "outputs": [
        {
          "output_type": "execute_result",
          "data": {
            "text/plain": [
              "1"
            ]
          },
          "metadata": {},
          "execution_count": 3
        }
      ]
    },
    {
      "cell_type": "code",
      "source": [
        "# 14. Write a code to find the index of the element \"cat\" in the tuple ('dog', 'cat', 'rabbit').\n",
        "my_tuple = ('dog', 'cat', 'rabbit')\n",
        "my_tuple.index('cat')"
      ],
      "metadata": {
        "colab": {
          "base_uri": "https://localhost:8080/"
        },
        "id": "snpjXK2sgphy",
        "outputId": "5b50f43b-4d63-4b9b-caab-cbcd3b050ad7"
      },
      "execution_count": 4,
      "outputs": [
        {
          "output_type": "execute_result",
          "data": {
            "text/plain": [
              "1"
            ]
          },
          "metadata": {},
          "execution_count": 4
        }
      ]
    },
    {
      "cell_type": "code",
      "source": [
        "# 15. Write a code to check if the element \"banana\" is in the tuple ('apple', 'orange', 'banana')\n",
        "my_tuple = ('apple', 'orange', 'banana')\n",
        "'banana' in my_tuple"
      ],
      "metadata": {
        "colab": {
          "base_uri": "https://localhost:8080/"
        },
        "id": "VnkW9TP1gzps",
        "outputId": "b8b15363-ae32-491d-9a4a-d6152a005777"
      },
      "execution_count": 5,
      "outputs": [
        {
          "output_type": "execute_result",
          "data": {
            "text/plain": [
              "True"
            ]
          },
          "metadata": {},
          "execution_count": 5
        }
      ]
    },
    {
      "cell_type": "code",
      "source": [
        "# 16.  Write a code to create a set with the elements 1, 2, 3, 4, 5 and print it\n",
        "my_set = {1, 2, 3, 4, 5}\n",
        "print(my_set)"
      ],
      "metadata": {
        "colab": {
          "base_uri": "https://localhost:8080/"
        },
        "id": "I9VNvhHBg_w2",
        "outputId": "5e114a50-5920-48dc-d694-130b8136a81e"
      },
      "execution_count": 6,
      "outputs": [
        {
          "output_type": "stream",
          "name": "stdout",
          "text": [
            "{1, 2, 3, 4, 5}\n"
          ]
        }
      ]
    },
    {
      "cell_type": "code",
      "source": [
        "# 17.Write a code to add the element 6 to the set {1, 2, 3, 4}\n",
        "my_set = {1, 2, 3, 4}\n",
        "my_set.add(6)\n",
        "print(my_set)"
      ],
      "metadata": {
        "colab": {
          "base_uri": "https://localhost:8080/"
        },
        "id": "aRD5QmDwhXoj",
        "outputId": "f964a1cd-d022-4ec0-9044-91e205ee6ce7"
      },
      "execution_count": 7,
      "outputs": [
        {
          "output_type": "stream",
          "name": "stdout",
          "text": [
            "{1, 2, 3, 4, 6}\n"
          ]
        }
      ]
    },
    {
      "cell_type": "code",
      "source": [
        "# 18. Write a code to create a tuple with the elements 10, 20, 30 and print it.\n",
        "my_tuple = (10, 20, 30)\n",
        "print(my_tuple)"
      ],
      "metadata": {
        "colab": {
          "base_uri": "https://localhost:8080/"
        },
        "id": "UCobRGdMhgOk",
        "outputId": "1464cf5f-c2bf-4d6f-feb6-ec851b8065f6"
      },
      "execution_count": 9,
      "outputs": [
        {
          "output_type": "stream",
          "name": "stdout",
          "text": [
            "(10, 20, 30)\n"
          ]
        }
      ]
    },
    {
      "cell_type": "code",
      "source": [
        "# 19. Write a code to access the first element of the tuple ('apple', 'banana', 'cherry').\n",
        "my_tuple = ('apple', 'banana', 'cherry')\n",
        "my_tuple[0]"
      ],
      "metadata": {
        "colab": {
          "base_uri": "https://localhost:8080/",
          "height": 35
        },
        "id": "4OqrMKdHiGE8",
        "outputId": "ff01119e-d216-433a-d8b3-ccfc8981166f"
      },
      "execution_count": 10,
      "outputs": [
        {
          "output_type": "execute_result",
          "data": {
            "text/plain": [
              "'apple'"
            ],
            "application/vnd.google.colaboratory.intrinsic+json": {
              "type": "string"
            }
          },
          "metadata": {},
          "execution_count": 10
        }
      ]
    },
    {
      "cell_type": "code",
      "source": [
        "# 20. Write a code to count how many times the number 2 appears in the tuple (1, 2, 3, 2, 4, 2)\n",
        "my_tuple = (1, 2, 3, 2, 4, 2)\n",
        "my_tuple.count(2)"
      ],
      "metadata": {
        "colab": {
          "base_uri": "https://localhost:8080/"
        },
        "id": "YjvXm2tyiOCP",
        "outputId": "ce750c79-0e33-40a6-db83-92037e17fecf"
      },
      "execution_count": 11,
      "outputs": [
        {
          "output_type": "execute_result",
          "data": {
            "text/plain": [
              "3"
            ]
          },
          "metadata": {},
          "execution_count": 11
        }
      ]
    },
    {
      "cell_type": "code",
      "source": [
        "# 21. Write a code to find the index of the element \"cat\" in the tuple ('dog', 'cat', 'rabbit').\n",
        "my_tuple = ('dog', 'cat', 'rabbit')\n",
        "my_tuple.index('cat')"
      ],
      "metadata": {
        "colab": {
          "base_uri": "https://localhost:8080/"
        },
        "id": "IUxg8rT7iiAN",
        "outputId": "877a0e7e-97e1-432a-cfe8-b1f8a081537d"
      },
      "execution_count": 12,
      "outputs": [
        {
          "output_type": "execute_result",
          "data": {
            "text/plain": [
              "1"
            ]
          },
          "metadata": {},
          "execution_count": 12
        }
      ]
    },
    {
      "cell_type": "code",
      "source": [
        "# 22. Write a code to check if the element \"banana\" is in the tuple ('apple', 'orange', 'banana')\n",
        "my_tuple = ('apple', 'orange', 'banana')\n",
        "'banana' in my_tuple"
      ],
      "metadata": {
        "colab": {
          "base_uri": "https://localhost:8080/"
        },
        "id": "8Q_uHM6OitQi",
        "outputId": "4adb9f7f-46bb-4ad1-d2dc-0817a5b1447d"
      },
      "execution_count": 13,
      "outputs": [
        {
          "output_type": "execute_result",
          "data": {
            "text/plain": [
              "True"
            ]
          },
          "metadata": {},
          "execution_count": 13
        }
      ]
    },
    {
      "cell_type": "code",
      "source": [
        "# 23.Write a code to create a set with the elements 1, 2, 3, 4, 5 and print it\n",
        "my_set = {1, 2, 3, 4, 5}\n",
        "print(my_set)"
      ],
      "metadata": {
        "colab": {
          "base_uri": "https://localhost:8080/"
        },
        "id": "bOILcg14i_Mq",
        "outputId": "76778cf5-f7bd-49d2-dd6f-c1f9418cc28f"
      },
      "execution_count": 14,
      "outputs": [
        {
          "output_type": "stream",
          "name": "stdout",
          "text": [
            "{1, 2, 3, 4, 5}\n"
          ]
        }
      ]
    },
    {
      "cell_type": "code",
      "source": [
        "# 24.Write a code to add the element 6 to the set {1, 2, 3, 4}.\n",
        "my_set = {1, 2, 3, 4}\n",
        "my_set.add(6)\n",
        "print(my_set)"
      ],
      "metadata": {
        "colab": {
          "base_uri": "https://localhost:8080/"
        },
        "id": "Nq_DxdWRjKtl",
        "outputId": "6bb4d8ec-8edf-40a7-af0d-565d9190404c"
      },
      "execution_count": 15,
      "outputs": [
        {
          "output_type": "stream",
          "name": "stdout",
          "text": [
            "{1, 2, 3, 4, 6}\n"
          ]
        }
      ]
    },
    {
      "cell_type": "code",
      "source": [],
      "metadata": {
        "id": "pKaWvgBNjO3l"
      },
      "execution_count": null,
      "outputs": []
    }
  ]
}